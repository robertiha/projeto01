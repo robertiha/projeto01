{
 "cells": [
  {
   "cell_type": "markdown",
   "metadata": {},
   "source": [
    "## Tabela de Comandos Git e GitHub\n",
    "\n",
    "| **Comando** | **Descrição** | **Ordem Lógica de Uso** |\n",
    "|-------------|---------------|-------------------------|\n",
    "| `git config --global user.name \"Seu Nome\"` | Configura o nome do usuário para todos os repositórios locais. | Primeira Configuração |\n",
    "| `git config --global user.email \"seuemail@exemplo.com\"` | Configura o e-mail do usuário para todos os repositórios locais. | Primeira Configuração |\n",
    "| `mkdir meu_projeto` | Cria um novo diretório chamado `meu_projeto`. | Iniciar Projeto |\n",
    "| `cd meu_projeto` | Entra no diretório `meu_projeto`. | Iniciar Projeto |\n",
    "| `git init` | Inicializa um novo repositório Git no diretório atual. | Iniciar Projeto |\n",
    "| `echo \"# Meu Projeto\" >> README.md` | Cria um arquivo README.md com um título. | Iniciar Projeto |\n",
    "| `git add nome_do_arquivo` | Adiciona o arquivo ao índice (staging area). | Adicionar Arquivos |\n",
    "| `git commit -m \"mensagem descritiva\"` | Faz o primeiro commit dos arquivos adicionados com uma mensagem descritiva. | Fazer Commit |\n",
    "| `git remote add origin https://github.com/usuario/meu_projeto.git` | Adiciona um repositório remoto chamado `origin` apontando para o URL especificado. | Conectar ao GitHub |\n",
    "| `git push -u origin main` | Envia os commits locais para o repositório remoto no branch `master`. | Conectar ao GitHub |\n",
    "| `git status` | Verifica o status atual do repositório, mostrando arquivos modificados e prontos para commit. | Monitorar Status |\n",
    "| `git add nome_do_arquivo` | Adiciona um arquivo específico ao índice (staging area). | Adicionar Arquivos |\n",
    "| `git commit -m \"mensagem do commit\"` | Faz commit dos arquivos adicionados com uma mensagem descritiva. | Fazer Commit |\n",
    "| `git pull` | Atualiza o repositório local com mudanças do repositório remoto. | Atualizar Repositório |\n",
    "| `git push` | Envia commits locais para o repositório remoto. | Enviar Mudanças |\n",
    "| `git clone https://github.com/usuario/repo_existente.git` | Clona um repositório existente do GitHub para o diretório local. | Clonar Repositório |\n",
    "| `git checkout -b novo_branch` | Cria e alterna para um novo branch chamado `novo_branch`. | Trabalhar com Branches |\n",
    "| `git checkout main` | Alterna para o branch `main`. | Trabalhar com Branches |\n",
    "| `git merge novo_branch` | Mescla o branch `novo_branch` no branch atual. | Trabalhar com Branches |\n",
    "\n",
    "## Ordem Lógica de Uso\n",
    "\n",
    "1. **Primeira Configuração:** `git config --global user.name`, `git config --global user.email`\n",
    "2. **Iniciar Projeto:** `mkdir meu_projeto`, `cd meu_projeto`, `git init`, `echo \"# Meu Projeto\" >> README.md`\n",
    "3. **Adicionar Arquivos:** `git add README.md`, `git add nome_do_arquivo`\n",
    "4. **Fazer Commit:** `git commit -m \"primeiro commit\"`, `git commit -m \"mensagem do commit\"`\n",
    "5. **Conectar ao GitHub:** `git remote add origin`, `git push -u origin master`\n",
    "6. **Monitorar Status:** `git status`\n",
    "7. **Atualizar Repositório:** `git pull`\n",
    "8. **Enviar Mudanças:** `git push`\n",
    "9. **Clonar Repositório:** `git clone`\n",
    "10. **Trabalhar com Branches:** `git checkout -b novo_branch`, `git checkout master`, `git merge novo_branch`\n"
   ]
  }
 ],
 "metadata": {
  "language_info": {
   "name": "python"
  }
 },
 "nbformat": 4,
 "nbformat_minor": 2
}

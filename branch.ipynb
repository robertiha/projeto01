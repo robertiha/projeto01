{
 "cells": [
  {
   "cell_type": "markdown",
   "metadata": {},
   "source": [
    "## Criando uma nova branch\n",
    "\n",
    "Branch é uma versão independente da linha principal de desenvolvimento em um repositório. Ela permite que os desenvolvedores trabalhem em diferentes funcionalidades, correções de bugs ou experimentos, sem afetar o código principal.\n"
   ]
  }
 ],
 "metadata": {
  "language_info": {
   "name": "python"
  }
 },
 "nbformat": 4,
 "nbformat_minor": 2
}

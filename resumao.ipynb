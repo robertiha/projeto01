{
 "cells": [
  {
   "cell_type": "markdown",
   "metadata": {},
   "source": [
    "## Entendendo a imagem abaixo:\n",
    "[Documentação git](https://git-scm.com/book/pt-br/v2/Come%C3%A7ando-O-B%C3%A1sico-do-Git)\n",
    "- Git trata seus dados mais como um conjunto de imagens de um sistema de arquivos em miniatura. Toda vez que você fizer um commit, ou salvar o estado de seu projeto no Git, ele basicamente tira uma foto de todos os seus arquivos e armazena uma referência para esse conjunto de arquivos. `O git trata seus dados como um fluxo do estado dos arquivos`\n",
    "\n",
    "### Os 3 estados:\n",
    "- `commited` -> Significa que todos os dados estão armazenados de forma segura em seu banco de dados local.\n",
    "- `modfied` -> significa que o arquivo foi alterado\n",
    "- `staged` -> significa que você marcou a versão atual de um arquivo modificado para fazer parte do seu próximo `commit`\n",
    "\n",
    "![Diretório de travalho, área de preparo e diretório git](https://git-scm.com/book/en/v2/images/areas.png)\n"
   ]
  },
  {
   "cell_type": "markdown",
   "metadata": {},
   "source": [
    "### Fundamentos de Git\n",
    "#### Gravando alterações em seu repositório: \n",
    "- Arquivos rastreados são os arquifos que o git conhece\n",
    "- Arquivos não rastreados (untracked) são todos os outros que não foram inclídos no ultimo snapshot\n",
    "- Quando se clona um repositório pela primeira vez, todos os arquivos serão rastreados mas não modificados já que o Git acabou de obte-los e você ainda não editou nada.\n",
    "\n",
    "![Estágios dos arquivos](https://git-scm.com/book/en/v2/images/lifecycle.png)\n",
    "### Criando um projeto e configurando o Git\n",
    "- `code .` : inicializar o vs code na pasta onde está localizado o git bash\n",
    "- `git init`: iniciar um repositório \n",
    "- `git status`: verifica o status dos arquivos no seu repositório\n",
    "\n",
    "### Primeiro commit\n",
    "- `git add nomedoarquivo`: adiciona um arquivo para a área de staging (preparando para commit)"
   ]
  }
 ],
 "metadata": {
  "language_info": {
   "name": "python"
  }
 },
 "nbformat": 4,
 "nbformat_minor": 2
}
